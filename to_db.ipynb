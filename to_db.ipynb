{
 "cells": [
  {
   "cell_type": "markdown",
   "id": "f4695295-b30e-4fb2-8b94-e40829c06261",
   "metadata": {},
   "source": [
    "### Import"
   ]
  },
  {
   "cell_type": "code",
   "execution_count": 19,
   "id": "8cfe803c-0640-4e62-9e0c-37354a0d2ae6",
   "metadata": {
    "tags": []
   },
   "outputs": [],
   "source": [
    "import pandas as pd\n",
    "import psycopg2\n",
    "from sqlalchemy import create_engine\n",
    "from sqlalchemy import text"
   ]
  },
  {
   "cell_type": "markdown",
   "id": "936757a6-ef57-4a40-bddc-6c6989bd9bfb",
   "metadata": {},
   "source": [
    "## Add Data to Database\n",
    "* Create dataframes that match db tables\n",
    "* Connect to db and add the data"
   ]
  },
  {
   "cell_type": "code",
   "execution_count": 20,
   "id": "dfcec85c-328e-4cdb-8013-1c723c707e9d",
   "metadata": {
    "tags": []
   },
   "outputs": [],
   "source": [
    "years = [2021, 2022, 2023]\n",
    "\n",
    "df = pd.DataFrame()\n",
    "\n",
    "for i in years:\n",
    "    temp = pd.read_csv(f'csv files/cleaned_{i}.csv')\n",
    "    df = pd.concat([temp, df], ignore_index=True)"
   ]
  },
  {
   "cell_type": "code",
   "execution_count": 21,
   "id": "08316d83-0b68-4d23-921d-456280ef7088",
   "metadata": {},
   "outputs": [],
   "source": [
    "player = df[['player_id', 'player_id_ustat', 'player_name_futbin',\n",
    "     'player_name_ustat', 'dob', 'nation', 'position']].drop_duplicates(subset=['player_id'])\n",
    "\n",
    "# Have only 1 entry per team and remove messed up team names (FIFA 23, will fix later)\n",
    "club = df[['club_id', 'club_name_futbin', 'club_name_ustat']].drop_duplicates(subset=['club_id'])\n",
    "club = club[club['club_name_futbin'] != '\\n                                           Controlled                                       ']\n",
    "\n",
    "# competition = df\n",
    "\n",
    "player_stats = df[['player_id', 'season', 'comp_id', 'club_id', 'apps',\n",
    "                   'minutes', 'goals', 'xG','assists', 'xA', 'shots', 'key_passes', 'yellow_cards',\n",
    "                   'red_cards', 'npg', 'npxG', 'xGChain', 'xGBuildup']].drop_duplicates(subset=['player_id', 'season', 'comp_id', 'club_id'])\n",
    "\n",
    "# team_stats = df[['team_id',\n",
    "\n",
    "# comp_stats = df\n",
    "\n",
    "player_ratings = df[['player_id', 'season', 'card_id', 'rating', 'pac', 'acceleration', 'sprint_speed', 'sho', 'positioning', \n",
    "                     'finishing', 'shot_power', 'long_shots', 'volleys', 'penalties', 'pas', 'vision', 'crossing', \n",
    "                     'fk_accuracy', 'short_passing', 'long_passing', 'curve', 'dri', 'agility', 'balance',\n",
    "                     'reactions', 'ball_control', 'dribbling', 'composure', 'def', 'interceptions', 'heading_acc', \n",
    "                     'def_awareness', 'standing_tackle', 'sliding_tackle', 'phy', 'jumping', 'stamina', \n",
    "                     'strength', 'aggression', 'gk_diving', 'gk_handling', 'gk_kicking', 'gk_reflexes', \n",
    "                     'gk_speed', 'gk_positioning']].drop_duplicates(subset=['player_id', 'season'])"
   ]
  },
  {
   "cell_type": "code",
   "execution_count": 22,
   "id": "a73eb656-708f-40cf-8e18-831d1bba15d4",
   "metadata": {
    "tags": []
   },
   "outputs": [],
   "source": [
    "user = 'postgres'\n",
    "password = 'password'\n",
    "host = 'localhost'\n",
    "db = 'postgres'\n",
    "\n",
    "engine = create_engine(f'postgresql+psycopg2://{user}:{password}@{host}/{db}')"
   ]
  },
  {
   "cell_type": "code",
   "execution_count": 23,
   "id": "045580fd-3cfb-4538-94e1-a251b285285d",
   "metadata": {
    "tags": []
   },
   "outputs": [],
   "source": [
    "with engine.connect() as con:\n",
    "    con.execution_options(isolation_level=\"AUTOCOMMIT\")\n",
    "    with open(\"sql files/SoccerDB.sql\") as file:\n",
    "        query = text(file.read())\n",
    "        con.execute(query)"
   ]
  },
  {
   "cell_type": "code",
   "execution_count": 24,
   "id": "60fcb224-9678-4ec2-a29b-94496d1ebf7b",
   "metadata": {
    "tags": []
   },
   "outputs": [],
   "source": [
    "dfs = [player, club, player_stats, player_ratings]\n",
    "tables = ['player', 'club', 'player_stats', 'player_ratings']\n",
    "\n",
    "for i in range(len(dfs)):\n",
    "    dfs[i].to_sql(tables[i], con=engine, if_exists='append', index=False)"
   ]
  }
 ],
 "metadata": {
  "kernelspec": {
   "display_name": "Python 3 (ipykernel)",
   "language": "python",
   "name": "python3"
  },
  "language_info": {
   "codemirror_mode": {
    "name": "ipython",
    "version": 3
   },
   "file_extension": ".py",
   "mimetype": "text/x-python",
   "name": "python",
   "nbconvert_exporter": "python",
   "pygments_lexer": "ipython3",
   "version": "3.10.11"
  }
 },
 "nbformat": 4,
 "nbformat_minor": 5
}
