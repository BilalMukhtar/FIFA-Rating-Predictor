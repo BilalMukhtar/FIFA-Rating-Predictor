{
 "cells": [
  {
   "cell_type": "markdown",
   "id": "f4695295-b30e-4fb2-8b94-e40829c06261",
   "metadata": {},
   "source": [
    "### Import and read in data"
   ]
  },
  {
   "cell_type": "code",
   "execution_count": 26,
   "id": "8cfe803c-0640-4e62-9e0c-37354a0d2ae6",
   "metadata": {},
   "outputs": [],
   "source": [
    "import pandas as pd\n",
    "\n",
    "df = pd.read_csv(\"csv files/cleaned_2022.csv\")"
   ]
  },
  {
   "cell_type": "markdown",
   "id": "936757a6-ef57-4a40-bddc-6c6989bd9bfb",
   "metadata": {},
   "source": [
    "## Add Data to Database\n",
    "* Create dataframes that match db tables\n",
    "* Connect to db and add the data"
   ]
  },
  {
   "cell_type": "code",
   "execution_count": 27,
   "id": "9dbc3213-4f47-43c4-a9d5-c56cb33e69b7",
   "metadata": {},
   "outputs": [],
   "source": [
    "player = df[['player_id', 'player_id_ustat', 'player_name_futbin',\n",
    "             'player_name_ustat', 'dob', 'nation', 'position']]\n",
    "\n",
    "# Have only 1 entry per team and remove messed up team names (FIFA 23, will fix later)\n",
    "team = df[['club_id', 'club_name_futbin', 'club_name_ustat']].drop_duplicates()\n",
    "team = team[team['club_name_futbin'] != '\\n                                           Controlled                                       ']\n",
    "\n",
    "# competition = df\n",
    "\n",
    "player_stats = df[['player_id', 'season', 'league_id', 'club_id', 'games',\n",
    "                   'time', 'goals', 'assists', 'xG', 'xA']]\n",
    "\n",
    "# team_stats = df[['team_id',\n",
    "\n",
    "# comp_stats = df\n",
    "\n",
    "player_ratings = df[['player_id', 'season', 'card_id', 'rating', 'pac', 'acceleration', 'sprint_speed', 'sho', 'positioning', \n",
    "                     'finishing', 'shot_power', 'long_shots', 'volleys', 'penalties', 'pas', 'vision', 'crossing', \n",
    "                     'fk_accuracy', 'short_passing', 'long_passing', 'curve', 'dri', 'agility', 'balance',\n",
    "                     'reactions', 'ball_control', 'dribbling', 'composure', 'def', 'interceptions', 'heading_acc', \n",
    "                     'def_awareness', 'standing_tackle', 'sliding_tackle', 'phy', 'jumping', 'stamina', \n",
    "                     'strength', 'aggression', 'gk_diving', 'gk_handling', 'gk_kicking', 'gk_reflexes', \n",
    "                     'gk_speed', 'gk_positioning']]"
   ]
  },
  {
   "cell_type": "code",
   "execution_count": 28,
   "id": "8b432be6-534d-40eb-a548-d1f3b524362a",
   "metadata": {},
   "outputs": [],
   "source": [
    "# Connect to database and insert data into tables that we currently have information for\n",
    "\n",
    "import psycopg2\n",
    "from sqlalchemy import create_engine\n",
    "\n",
    "user = 'postgres'\n",
    "password = 'password'\n",
    "host = 'localhost'\n",
    "db = 'postgres'\n",
    "\n",
    "engine = create_engine(f'postgresql+psycopg2://{user}:{password}@{host}/{db}')\n",
    "\n",
    "dfs = [player, team, player_stats, player_ratings]\n",
    "tables = ['player', 'team', 'player_stats', 'player_ratings']\n",
    "\n",
    "for i in range(len(dfs)):\n",
    "    dfs[i].to_sql(tables[i], con=engine, if_exists='append', index=False)"
   ]
  }
 ],
 "metadata": {
  "kernelspec": {
   "display_name": "Python 3 (ipykernel)",
   "language": "python",
   "name": "python3"
  },
  "language_info": {
   "codemirror_mode": {
    "name": "ipython",
    "version": 3
   },
   "file_extension": ".py",
   "mimetype": "text/x-python",
   "name": "python",
   "nbconvert_exporter": "python",
   "pygments_lexer": "ipython3",
   "version": "3.10.12"
  }
 },
 "nbformat": 4,
 "nbformat_minor": 5
}
