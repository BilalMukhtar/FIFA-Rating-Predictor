{
 "cells": [
  {
   "cell_type": "code",
   "execution_count": 43,
   "id": "8cfe803c-0640-4e62-9e0c-37354a0d2ae6",
   "metadata": {},
   "outputs": [],
   "source": [
    "import pandas as pd\n",
    "\n",
    "df = pd.read_csv(\"cleaned_2023.csv\")\n",
    "df = df.fillna('NULL')"
   ]
  },
  {
   "cell_type": "code",
   "execution_count": 44,
   "id": "9dbc3213-4f47-43c4-a9d5-c56cb33e69b7",
   "metadata": {},
   "outputs": [],
   "source": [
    "player = df[['player_id', 'ustat_id', 'player_name_futbin',\n",
    "             'player_name_ustat', 'dob', 'nation', 'pos']]\n",
    "\n",
    "team = df[['club_id', 'team_title_futbin', 'team_title_ustat']].drop_duplicates()\n",
    "team = team[team['team_title_futbin'] != '\\n                                           Controlled                                       ']\n",
    "\n",
    "# competition = df\n",
    "\n",
    "player_stats = df[['player_id', 'year', 'league_id', 'club_id', 'games',\n",
    "                   'time', 'goals', 'assists', 'xG', 'xA']]\n",
    "\n",
    "# team_stats = df[['team_id',\n",
    "\n",
    "# comp_stats = df\n",
    "\n",
    "player_ratings = df[['player_id', 'year', 'rating', 'pac', 'acceleration', 'sprint_speed', 'sho', 'positioning', \n",
    "                     'finishing', 'shot_power', 'long_shots', 'volleys', 'penalties', 'pas', 'vision', 'crossing', \n",
    "                     'fk_accuracy', 'short_passing', 'long_passing', 'curve', 'dri', 'agility', 'balance',\n",
    "                     'reactions', 'ball_control', 'dribbling', 'composure', 'def', 'interceptions', 'heading_acc', \n",
    "                     'def_awareness', 'standing_tackle', 'sliding_tackle', 'phy', 'jumping', 'stamina', \n",
    "                     'strength', 'aggression', 'gk_diving', 'gk_handling', 'gk_kicking', 'gk_reflexes', \n",
    "                     'gk_speed', 'gk_positioning']]"
   ]
  },
  {
   "cell_type": "code",
   "execution_count": 45,
   "id": "97e4abfb-8a6d-4d42-b3f0-b8f0c10cb264",
   "metadata": {},
   "outputs": [
    {
     "data": {
      "text/html": [
       "<div>\n",
       "<style scoped>\n",
       "    .dataframe tbody tr th:only-of-type {\n",
       "        vertical-align: middle;\n",
       "    }\n",
       "\n",
       "    .dataframe tbody tr th {\n",
       "        vertical-align: top;\n",
       "    }\n",
       "\n",
       "    .dataframe thead th {\n",
       "        text-align: right;\n",
       "    }\n",
       "</style>\n",
       "<table border=\"1\" class=\"dataframe\">\n",
       "  <thead>\n",
       "    <tr style=\"text-align: right;\">\n",
       "      <th></th>\n",
       "      <th>club_id</th>\n",
       "      <th>team_title_futbin</th>\n",
       "      <th>team_title_ustat</th>\n",
       "    </tr>\n",
       "  </thead>\n",
       "  <tbody>\n",
       "    <tr>\n",
       "      <th>0</th>\n",
       "      <td>1943</td>\n",
       "      <td>AFC Bournemouth</td>\n",
       "      <td>Bournemouth</td>\n",
       "    </tr>\n",
       "    <tr>\n",
       "      <th>1</th>\n",
       "      <td>17</td>\n",
       "      <td>Southampton</td>\n",
       "      <td>Southampton</td>\n",
       "    </tr>\n",
       "    <tr>\n",
       "      <th>2</th>\n",
       "      <td>1799</td>\n",
       "      <td>Crystal Palace</td>\n",
       "      <td>Crystal Palace</td>\n",
       "    </tr>\n",
       "    <tr>\n",
       "      <th>3</th>\n",
       "      <td>144</td>\n",
       "      <td>Fulham</td>\n",
       "      <td>Fulham</td>\n",
       "    </tr>\n",
       "    <tr>\n",
       "      <th>4</th>\n",
       "      <td>13</td>\n",
       "      <td>Newcastle Utd</td>\n",
       "      <td>Newcastle United</td>\n",
       "    </tr>\n",
       "    <tr>\n",
       "      <th>...</th>\n",
       "      <td>...</td>\n",
       "      <td>...</td>\n",
       "      <td>...</td>\n",
       "    </tr>\n",
       "    <tr>\n",
       "      <th>1128</th>\n",
       "      <td>166</td>\n",
       "      <td>Hertha Berlin</td>\n",
       "      <td>Hertha Berlin</td>\n",
       "    </tr>\n",
       "    <tr>\n",
       "      <th>1136</th>\n",
       "      <td>23</td>\n",
       "      <td>M'gladbach</td>\n",
       "      <td>Borussia M.Gladbach</td>\n",
       "    </tr>\n",
       "    <tr>\n",
       "      <th>1137</th>\n",
       "      <td>36</td>\n",
       "      <td>VfB Stuttgart</td>\n",
       "      <td>VfB Stuttgart</td>\n",
       "    </tr>\n",
       "    <tr>\n",
       "      <th>1141</th>\n",
       "      <td>175</td>\n",
       "      <td>VfL Wolfsburg</td>\n",
       "      <td>Wolfsburg</td>\n",
       "    </tr>\n",
       "    <tr>\n",
       "      <th>1207</th>\n",
       "      <td>112172</td>\n",
       "      <td>RB Leipzig</td>\n",
       "      <td>RasenBallsport Leipzig</td>\n",
       "    </tr>\n",
       "  </tbody>\n",
       "</table>\n",
       "<p>97 rows × 3 columns</p>\n",
       "</div>"
      ],
      "text/plain": [
       "      club_id team_title_futbin        team_title_ustat\n",
       "0        1943   AFC Bournemouth             Bournemouth\n",
       "1          17       Southampton             Southampton\n",
       "2        1799    Crystal Palace          Crystal Palace\n",
       "3         144            Fulham                  Fulham\n",
       "4          13     Newcastle Utd        Newcastle United\n",
       "...       ...               ...                     ...\n",
       "1128      166     Hertha Berlin           Hertha Berlin\n",
       "1136       23        M'gladbach     Borussia M.Gladbach\n",
       "1137       36     VfB Stuttgart           VfB Stuttgart\n",
       "1141      175     VfL Wolfsburg               Wolfsburg\n",
       "1207   112172        RB Leipzig  RasenBallsport Leipzig\n",
       "\n",
       "[97 rows x 3 columns]"
      ]
     },
     "execution_count": 45,
     "metadata": {},
     "output_type": "execute_result"
    }
   ],
   "source": [
    "team"
   ]
  },
  {
   "cell_type": "code",
   "execution_count": 32,
   "id": "1f64bd53-d68c-4880-8343-b579b1b2adb7",
   "metadata": {},
   "outputs": [
    {
     "name": "stdout",
     "output_type": "stream",
     "text": [
      "Requirement already satisfied: psycopg2 in /opt/homebrew/lib/python3.10/site-packages (2.9.6)\n"
     ]
    }
   ],
   "source": [
    "!pip install psycopg2"
   ]
  },
  {
   "cell_type": "code",
   "execution_count": 26,
   "id": "8b432be6-534d-40eb-a548-d1f3b524362a",
   "metadata": {},
   "outputs": [
    {
     "ename": "ModuleNotFoundError",
     "evalue": "No module named 'pyscopg2'",
     "output_type": "error",
     "traceback": [
      "\u001b[0;31m---------------------------------------------------------------------------\u001b[0m",
      "\u001b[0;31mModuleNotFoundError\u001b[0m                       Traceback (most recent call last)",
      "Cell \u001b[0;32mIn[26], line 1\u001b[0m\n\u001b[0;32m----> 1\u001b[0m \u001b[38;5;28;01mimport\u001b[39;00m \u001b[38;5;21;01mpyscopg2\u001b[39;00m\n\u001b[1;32m      3\u001b[0m conn \u001b[38;5;241m=\u001b[39m psycopg2\u001b[38;5;241m.\u001b[39mconnect(\n\u001b[1;32m      4\u001b[0m     host\u001b[38;5;241m=\u001b[39m\u001b[38;5;124m\"\u001b[39m\u001b[38;5;124mlocalhost\u001b[39m\u001b[38;5;124m\"\u001b[39m,\n\u001b[1;32m      5\u001b[0m     database\u001b[38;5;241m=\u001b[39m\u001b[38;5;124m\"\u001b[39m\u001b[38;5;124mpostgres\u001b[39m\u001b[38;5;124m\"\u001b[39m,\n\u001b[1;32m      6\u001b[0m     user\u001b[38;5;241m=\u001b[39m\u001b[38;5;124m\"\u001b[39m\u001b[38;5;124mpostgres\u001b[39m\u001b[38;5;124m\"\u001b[39m,\n\u001b[1;32m      7\u001b[0m     password\u001b[38;5;241m=\u001b[39m\u001b[38;5;124m\"\u001b[39m\u001b[38;5;124mpassword\u001b[39m\u001b[38;5;124m\"\u001b[39m)\n\u001b[1;32m      9\u001b[0m dfs \u001b[38;5;241m=\u001b[39m [player, team, player_stats, player_ratings]\n",
      "\u001b[0;31mModuleNotFoundError\u001b[0m: No module named 'pyscopg2'"
     ]
    }
   ],
   "source": [
    "import pyscopg2\n",
    "\n",
    "conn = psycopg2.connect(\n",
    "    host=\"localhost\",\n",
    "    database=\"postgres\",\n",
    "    user=\"postgres\",\n",
    "    password=\"password\")\n",
    "\n",
    "dfs = [player, team, player_stats, player_ratings]\n",
    "tables = ['player', 'team', 'player_stats', 'player_ratings']\n",
    "\n",
    "for i in range(len(dfs)):\n",
    "    dfs[i].to_sql(tables[i], con=conn, if_exists='append')"
   ]
  },
  {
   "cell_type": "code",
   "execution_count": 48,
   "id": "3fd31d00-b7f4-4935-993d-39031106392f",
   "metadata": {},
   "outputs": [],
   "source": [
    "def get_inserts(df, table, file):\n",
    "    for index, row in df.iterrows():       \n",
    "        file.write('INSERT INTO '+table+' VALUES '+ str(tuple(row.values))+'\\n')\n",
    "\n",
    "dfs = [player, team, player_stats, player_ratings]\n",
    "tables = ['player', 'team', 'player_stats', 'player_ratings']\n",
    "\n",
    "f = open(os.path.join(os.path.abspath(''), \"inserts.sql\"), \"w+\")\n",
    "\n",
    "for i in range(len(dfs)):\n",
    "    get_inserts(dfs[i], tables[i], f);\n",
    "    \n",
    "f.close()"
   ]
  },
  {
   "cell_type": "code",
   "execution_count": 39,
   "id": "78a7fecc-1e4d-47f9-bc1f-9f84ab6c5412",
   "metadata": {},
   "outputs": [
    {
     "data": {
      "text/plain": [
       "11371"
      ]
     },
     "execution_count": 39,
     "metadata": {},
     "output_type": "execute_result"
    }
   ],
   "source": [
    "df.isna().sum().sum()"
   ]
  }
 ],
 "metadata": {
  "kernelspec": {
   "display_name": "Python 3 (ipykernel)",
   "language": "python",
   "name": "python3"
  },
  "language_info": {
   "codemirror_mode": {
    "name": "ipython",
    "version": 3
   },
   "file_extension": ".py",
   "mimetype": "text/x-python",
   "name": "python",
   "nbconvert_exporter": "python",
   "pygments_lexer": "ipython3",
   "version": "3.10.12"
  }
 },
 "nbformat": 4,
 "nbformat_minor": 5
}
