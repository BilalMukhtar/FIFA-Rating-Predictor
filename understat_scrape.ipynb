{
 "cells": [
  {
   "cell_type": "markdown",
   "id": "3389d471-7d8b-402c-8783-f06cccbd6121",
   "metadata": {},
   "source": [
    "### Imports"
   ]
  },
  {
   "cell_type": "code",
   "execution_count": null,
   "id": "1a16bb4d-d10b-404a-969f-aa42882c67b0",
   "metadata": {},
   "outputs": [],
   "source": [
    "import json\n",
    "from bs4 import BeautifulSoup\n",
    "import pandas as pd\n",
    "import requests\n",
    "import re\n",
    "import codecs"
   ]
  },
  {
   "cell_type": "markdown",
   "id": "4562d114-dc1a-4b91-9fb8-eb778038260c",
   "metadata": {},
   "source": [
    "### Functions"
   ]
  },
  {
   "cell_type": "code",
   "execution_count": 41,
   "id": "49138533-2582-4fa2-91b1-a1cc24d9f76b",
   "metadata": {
    "tags": []
   },
   "outputs": [],
   "source": [
    "PATTERN = r\"{}\\s+=\\s+JSON.parse\\(\\'(.*?)\\'\\)\"\n",
    "\n",
    "def find_match(scripts, pattern):\n",
    "    for script in scripts:\n",
    "        match = re.search(pattern, script.string)\n",
    "        if match:\n",
    "            break\n",
    "\n",
    "    return match\n",
    "\n",
    "def get_data(url, data_type):\n",
    "    headers = {'User-Agent': 'Mozilla/5.0 (Macintosh; Intel Mac OS X 10_11_5) AppleWebKit/537.36 (KHTML, like Gecko) Chrome/50.0.2661.102 Safari/537.36'}\n",
    "    result = requests.get(url, headers=headers)\n",
    "    soup = BeautifulSoup(result.content, 'html.parser')\n",
    "    scripts = soup.find_all(\"script\")\n",
    "\n",
    "    pattern = re.compile(PATTERN.format(data_type))\n",
    "    match = find_match(scripts, pattern)\n",
    "    data = decode_data(match)\n",
    "\n",
    "    return data\n",
    "\n",
    "def decode_data(match):\n",
    "    byte_data = codecs.escape_decode(match.group(1))\n",
    "    json_data = json.loads(byte_data[0].decode(\"utf-8\"))\n",
    "\n",
    "    return json_data"
   ]
  },
  {
   "cell_type": "markdown",
   "id": "f4c24b30-920d-4f75-abf4-ccf8a44f6eb9",
   "metadata": {},
   "source": [
    "## Fetch Players\n",
    "* Gets players from the \"top\" 5 leagues in a given year"
   ]
  },
  {
   "cell_type": "code",
   "execution_count": 47,
   "id": "a96fe9b1-d0b9-4bf2-a45a-f80b40e43b06",
   "metadata": {
    "tags": []
   },
   "outputs": [],
   "source": [
    "leagues = ['EPL', 'La_liga', 'Bundesliga', 'Serie_A', 'Ligue_1']\n",
    "year = 2014\n",
    "dfs = []\n",
    "\n",
    "for i in leagues:\n",
    "    dfs.append(pd.DataFrame(get_data(f'https://understat.com/league/{i}/{year}', 'playersData')))"
   ]
  },
  {
   "cell_type": "code",
   "execution_count": 1,
   "id": "b991346f-b031-4b53-a4ae-216bc48ad946",
   "metadata": {
    "tags": []
   },
   "outputs": [
    {
     "ename": "NameError",
     "evalue": "name 'pd' is not defined",
     "output_type": "error",
     "traceback": [
      "\u001b[0;31m---------------------------------------------------------------------------\u001b[0m",
      "\u001b[0;31mNameError\u001b[0m                                 Traceback (most recent call last)",
      "Cell \u001b[0;32mIn[1], line 2\u001b[0m\n\u001b[1;32m      1\u001b[0m \u001b[38;5;66;03m# Combine the 5 leagues into 1 dataframe\u001b[39;00m\n\u001b[0;32m----> 2\u001b[0m total \u001b[38;5;241m=\u001b[39m \u001b[43mpd\u001b[49m\u001b[38;5;241m.\u001b[39mconcat(dfs)\n",
      "\u001b[0;31mNameError\u001b[0m: name 'pd' is not defined"
     ]
    }
   ],
   "source": [
    "# Combine the 5 leagues into 1 dataframe\n",
    "total = pd.concat(dfs)"
   ]
  },
  {
   "cell_type": "code",
   "execution_count": 46,
   "id": "ec5b9bfe-770f-4170-953a-2f0d05f99418",
   "metadata": {},
   "outputs": [],
   "source": [
    "# Output to csv file\n",
    "total.to_csv(\"csv files/ustat_2014.csv\", index=False)"
   ]
  }
 ],
 "metadata": {
  "kernelspec": {
   "display_name": "Python 3 (ipykernel)",
   "language": "python",
   "name": "python3"
  },
  "language_info": {
   "codemirror_mode": {
    "name": "ipython",
    "version": 3
   },
   "file_extension": ".py",
   "mimetype": "text/x-python",
   "name": "python",
   "nbconvert_exporter": "python",
   "pygments_lexer": "ipython3",
   "version": "3.10.12"
  }
 },
 "nbformat": 4,
 "nbformat_minor": 5
}
