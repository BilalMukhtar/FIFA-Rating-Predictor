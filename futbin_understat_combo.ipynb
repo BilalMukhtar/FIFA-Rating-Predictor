{
 "cells": [
  {
   "cell_type": "code",
   "execution_count": 2,
   "id": "d9ffde17-9216-40fc-98ed-3bc29b45f6ce",
   "metadata": {
    "tags": []
   },
   "outputs": [],
   "source": [
    "import pandas as pd\n",
    "\n",
    "ustat = pd.read_csv(\"ustat_2023.csv\")\n",
    "futbin = pd.read_csv(\"futbin_2023.csv\")"
   ]
  },
  {
   "cell_type": "code",
   "execution_count": 3,
   "id": "3854e9da-9ad6-4f35-b7d9-54236964fd70",
   "metadata": {
    "tags": []
   },
   "outputs": [],
   "source": [
    "futbin = futbin.rename(columns={\"name\": \"player_name\", \"club\": \"team_title\"})"
   ]
  },
  {
   "cell_type": "code",
   "execution_count": 4,
   "id": "900b8163-bd30-4119-bb41-bb128d3d982c",
   "metadata": {
    "scrolled": true
   },
   "outputs": [],
   "source": [
    "ustat.team_title = ustat.team_title.str.split(',')\n",
    "ustat = ustat.explode('team_title').reset_index(drop=True)"
   ]
  },
  {
   "cell_type": "code",
   "execution_count": 5,
   "id": "71a0c8b4-4208-4b1d-9281-a1c9453e995f",
   "metadata": {},
   "outputs": [],
   "source": [
    "unpack_ex = pd.read_csv(\"fix_ids.csv\")\n",
    "unpack_ex = unpack_ex.drop('fb_team', axis=1)\n",
    "unpack_ex = unpack_ex.rename(columns={\"us_team\": \"team_title\", \"id\": \"club_id\"})\n",
    "ustat = ustat.merge(unpack_ex, how='left', on='team_title')"
   ]
  },
  {
   "cell_type": "code",
   "execution_count": 6,
   "id": "99966972-d466-4c40-aad8-e36f5255716f",
   "metadata": {},
   "outputs": [],
   "source": [
    "unpack_nam = pd.read_csv(\"check_names.csv\")\n",
    "unpack_nam = unpack_nam.drop(['futbin_name', 'score'], axis=1)\n",
    "unpack_nam = unpack_nam.rename(columns={\"id\": \"player_id\", \"ustat_name\": \"player_name\"})\n",
    "ustat = ustat.merge(unpack_nam, how='left', on='player_name')"
   ]
  },
  {
   "cell_type": "code",
   "execution_count": 7,
   "id": "afad1c86-7b0c-4c94-8bb2-a6408fa6c660",
   "metadata": {},
   "outputs": [],
   "source": [
    "comb = pd.merge(futbin, ustat, how='left', on=['player_id', 'club_id'])"
   ]
  },
  {
   "cell_type": "code",
   "execution_count": 12,
   "id": "e8063345-1274-42ba-adfd-a21b8a6186ba",
   "metadata": {},
   "outputs": [],
   "source": [
    "cleaned = comb[comb.shots.notna()]\n",
    "cleaned = cleaned.drop_duplicates()\n",
    "cleaned = cleaned.rename(columns={\"player_name_x\": \"player_name_futbin\", \"team_title_x\": \"team_title_futbin\",\n",
    "                                 \"player_name_y\": \"player_name_ustat\", \"team_title_y\": \"team_title_ustat\",\n",
    "                                 \"id\": \"ustat_id\"})"
   ]
  },
  {
   "cell_type": "code",
   "execution_count": 13,
   "id": "8c93f3ac-a118-4601-9cf1-fc97939a688e",
   "metadata": {},
   "outputs": [],
   "source": [
    "cleaned = cleaned.fillna('NULL')"
   ]
  },
  {
   "cell_type": "code",
   "execution_count": 14,
   "id": "344c4c65-96c2-4f20-8078-370c35e9aa28",
   "metadata": {},
   "outputs": [],
   "source": [
    "cleaned.to_csv(\"cleaned_2023.csv\",index=False)"
   ]
  },
  {
   "cell_type": "code",
   "execution_count": 263,
   "id": "e0d569f2-c08e-442d-a64c-d9379eb3ba32",
   "metadata": {},
   "outputs": [
    {
     "data": {
      "text/plain": [
       "Index(['player_name_futbin', 'pos', 'card_id', 'year', 'link', 'player_id',\n",
       "       'dob', 'team_title_futbin', 'club_id', 'league', 'league_id', 'nation',\n",
       "       'rating', 'pac', 'acceleration', 'sprint_speed', 'sho', 'positioning',\n",
       "       'finishing', 'shot_power', 'long_shots', 'volleys', 'penalties', 'pas',\n",
       "       'vision', 'crossing', 'fk_accuracy', 'short_passing', 'long_passing',\n",
       "       'curve', 'dri', 'agility', 'balance', 'reactions', 'ball_control',\n",
       "       'dribbling', 'composure', 'def', 'interceptions', 'heading_acc',\n",
       "       'def_awareness', 'standing_tackle', 'sliding_tackle', 'phy', 'jumping',\n",
       "       'stamina', 'strength', 'aggression', 'gk_diving', 'gk_handling',\n",
       "       'gk_kicking', 'gk_reflexes', 'gk_speed', 'gk_positioning', 'ustat_id',\n",
       "       'player_name_ustat', 'games', 'time', 'goals', 'xG', 'assists', 'xA',\n",
       "       'shots', 'key_passes', 'yellow_cards', 'red_cards', 'position',\n",
       "       'team_title_ustat', 'npg', 'npxG', 'xGChain', 'xGBuildup'],\n",
       "      dtype='object')"
      ]
     },
     "execution_count": 263,
     "metadata": {},
     "output_type": "execute_result"
    }
   ],
   "source": [
    "cleaned.columns"
   ]
  },
  {
   "cell_type": "code",
   "execution_count": null,
   "id": "f21427bf-fa8b-429c-91a2-ed3cc7650f96",
   "metadata": {},
   "outputs": [],
   "source": []
  }
 ],
 "metadata": {
  "kernelspec": {
   "display_name": "Python 3 (ipykernel)",
   "language": "python",
   "name": "python3"
  },
  "language_info": {
   "codemirror_mode": {
    "name": "ipython",
    "version": 3
   },
   "file_extension": ".py",
   "mimetype": "text/x-python",
   "name": "python",
   "nbconvert_exporter": "python",
   "pygments_lexer": "ipython3",
   "version": "3.10.12"
  }
 },
 "nbformat": 4,
 "nbformat_minor": 5
}
