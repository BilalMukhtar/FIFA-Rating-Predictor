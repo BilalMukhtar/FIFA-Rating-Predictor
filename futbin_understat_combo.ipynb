{
 "cells": [
  {
   "cell_type": "markdown",
   "id": "960d0a85-3610-42cc-a4fb-803429c0b3c0",
   "metadata": {},
   "source": [
    "### Import and Settings"
   ]
  },
  {
   "cell_type": "code",
   "execution_count": 100,
   "id": "c0437a00-e063-44a8-b29f-77e8e0fe9967",
   "metadata": {
    "tags": []
   },
   "outputs": [],
   "source": [
    "import pandas as pd\n",
    "\n",
    "pd.set_option('display.max_rows', 500)"
   ]
  },
  {
   "cell_type": "markdown",
   "id": "a0ff51e9-09b1-4fb8-a2d2-8b4a13a3e6dc",
   "metadata": {},
   "source": [
    "### Read in files and reformat"
   ]
  },
  {
   "cell_type": "code",
   "execution_count": 119,
   "id": "d9ffde17-9216-40fc-98ed-3bc29b45f6ce",
   "metadata": {
    "tags": []
   },
   "outputs": [],
   "source": [
    "ustat = pd.read_csv(\"csv files/ustat_2023.csv\")\n",
    "futbin = pd.read_csv(\"csv files/futbin_2023.csv\")"
   ]
  },
  {
   "cell_type": "code",
   "execution_count": 120,
   "id": "3854e9da-9ad6-4f35-b7d9-54236964fd70",
   "metadata": {
    "tags": []
   },
   "outputs": [],
   "source": [
    "futbin = futbin.rename(columns={\"name\": \"player_name\", \"club\": \"team_title\"})\n",
    "futbin['dob'] = pd.to_datetime(futbin['dob'], dayfirst=True)"
   ]
  },
  {
   "cell_type": "code",
   "execution_count": 121,
   "id": "900b8163-bd30-4119-bb41-bb128d3d982c",
   "metadata": {
    "scrolled": true,
    "tags": []
   },
   "outputs": [],
   "source": [
    "ustat.team_title = ustat.team_title.str.split(',')\n",
    "ustat = ustat.explode('team_title').reset_index(drop=True)"
   ]
  },
  {
   "cell_type": "markdown",
   "id": "0baeb48b-ed91-491d-a923-8a448f7b7b7b",
   "metadata": {},
   "source": [
    "## Dataset matching\n",
    "\n",
    "* Utilizes the club and players ids to match the understat and futbin datasets\n",
    "* Remove duplicates and missing data from result then rename columns to match database"
   ]
  },
  {
   "cell_type": "code",
   "execution_count": 122,
   "id": "71a0c8b4-4208-4b1d-9281-a1c9453e995f",
   "metadata": {
    "tags": []
   },
   "outputs": [],
   "source": [
    "unpack_ex = pd.read_csv(\"data repair csvs/fix_club_ids.csv\")\n",
    "unpack_ex = unpack_ex.rename(columns={\"db_id\": \"db_club_id\"})\n",
    "ustat = ustat.merge(unpack_ex[['us_team', 'db_club_id']], how='left', left_on='team_title', right_on='us_team')\n",
    "futbin = futbin.merge(unpack_ex[['futbin_id', 'db_club_id']], how='left', left_on='club_id', right_on='futbin_id')"
   ]
  },
  {
   "cell_type": "code",
   "execution_count": 123,
   "id": "99966972-d466-4c40-aad8-e36f5255716f",
   "metadata": {
    "tags": []
   },
   "outputs": [],
   "source": [
    "unpack_nam = pd.read_csv(\"data repair csvs/fix_name_ids.csv\")\n",
    "unpack_nam = unpack_nam.drop(['futbin_name', 'score'], axis=1)\n",
    "unpack_nam = unpack_nam.rename(columns={\"id\": \"player_id\", \"ustat_name\": \"player_name\"})\n",
    "ustat = ustat.merge(unpack_nam, how='left', on='player_name')"
   ]
  },
  {
   "cell_type": "code",
   "execution_count": 124,
   "id": "afad1c86-7b0c-4c94-8bb2-a6408fa6c660",
   "metadata": {
    "tags": []
   },
   "outputs": [],
   "source": [
    "comb = pd.merge(futbin, ustat, how='left', on=['player_id', 'db_club_id'])"
   ]
  },
  {
   "cell_type": "code",
   "execution_count": 125,
   "id": "e8063345-1274-42ba-adfd-a21b8a6186ba",
   "metadata": {
    "tags": []
   },
   "outputs": [],
   "source": [
    "cleaned = comb[comb.shots.notna()]\n",
    "cleaned = cleaned.drop_duplicates()\n",
    "cleaned = cleaned.drop('us_team', axis=1)\n",
    "cleaned = cleaned.rename(columns={\"player_name_x\": \"player_name_futbin\", \"team_title_x\": \"club_name_futbin\",\n",
    "                                 \"player_name_y\": \"player_name_ustat\", \"team_title_y\": \"club_name_ustat\",\n",
    "                                 \"id\": \"player_id_ustat\", \"club_id\": \"club_id_futbin\", 'pos': 'position',\n",
    "                                 'db_club_id': 'club_id', 'year':'season', 'league_id': 'comp_id', 'games':'apps',\n",
    "                                 'time':'minutes'})"
   ]
  },
  {
   "cell_type": "code",
   "execution_count": 126,
   "id": "8c93f3ac-a118-4601-9cf1-fc97939a688e",
   "metadata": {
    "tags": []
   },
   "outputs": [],
   "source": [
    "# To have correct null value in the database\n",
    "cleaned = cleaned.fillna('NULL')"
   ]
  },
  {
   "cell_type": "code",
   "execution_count": 127,
   "id": "344c4c65-96c2-4f20-8078-370c35e9aa28",
   "metadata": {
    "tags": []
   },
   "outputs": [],
   "source": [
    "# Export complete file into a csv\n",
    "cleaned.to_csv(\"csv files/cleaned_2023.csv\",index=False)"
   ]
  },
  {
   "cell_type": "code",
   "execution_count": null,
   "id": "6e53ce94-6813-4c29-9c04-d0f5f724ee7b",
   "metadata": {},
   "outputs": [],
   "source": []
  }
 ],
 "metadata": {
  "kernelspec": {
   "display_name": "Python 3 (ipykernel)",
   "language": "python",
   "name": "python3"
  },
  "language_info": {
   "codemirror_mode": {
    "name": "ipython",
    "version": 3
   },
   "file_extension": ".py",
   "mimetype": "text/x-python",
   "name": "python",
   "nbconvert_exporter": "python",
   "pygments_lexer": "ipython3",
   "version": "3.10.11"
  }
 },
 "nbformat": 4,
 "nbformat_minor": 5
}
