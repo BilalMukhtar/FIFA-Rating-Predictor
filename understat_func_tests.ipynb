{
 "cells": [
  {
   "cell_type": "code",
   "execution_count": 1,
   "id": "bd072c03",
   "metadata": {},
   "outputs": [],
   "source": [
    "from bs4 import BeautifulSoup\n",
    "import requests, time\n",
    "import pandas as pd\n",
    "import numpy as np\n",
    "import re\n",
    "from selenium import webdriver\n",
    "from selenium.webdriver.common.keys import Keys"
   ]
  },
  {
   "cell_type": "code",
   "execution_count": 2,
   "id": "558949af",
   "metadata": {
    "tags": []
   },
   "outputs": [
    {
     "name": "stderr",
     "output_type": "stream",
     "text": [
      "/var/folders/61/zxwl6cdd4hj6rqs1s7tbw4lc0000gn/T/ipykernel_3828/4074863580.py:1: DeprecationWarning: executable_path has been deprecated, please pass in a Service object\n",
      "  driver = webdriver.Chrome(\"/Users/sheikhbman/Desktop/My Projects/fbdict/chromedriver\")\n"
     ]
    }
   ],
   "source": [
    "driver = webdriver.Chrome(\"/Users/sheikhbman/Desktop/My Projects/fbdict/chromedriver\")"
   ]
  },
  {
   "cell_type": "code",
   "execution_count": 48,
   "id": "1f00fc7b-526d-435d-a944-6ac88ce7d19f",
   "metadata": {},
   "outputs": [],
   "source": [
    "def get_team_stats(league, season, driver):\n",
    "    url = f\"https://understat.com/league/{league}/{season}\"\n",
    "    driver.get(url)\n",
    "    \n",
    "    col_list = [\"Season\", \"Team\", \"M\", \"W\", \"D\", \"L\", \"G\", \"GA\", \"PTS\", \n",
    "               \"xG\", \"xGdiff\", \"xGA\", \"xGAdiff\", \"xPTS\", \"xPTSdiff\"]\n",
    "\n",
    "    teamdf = pd.DataFrame(columns = col_list)\n",
    "\n",
    "    teams = driver.find_elements(\"xpath\", '//div[@id=\"league-chemp\"]/table/tbody/tr')\n",
    "\n",
    "    for i in teams:\n",
    "        team = i.find_elements(\"xpath\", './/*')\n",
    "        team = team[2:]\n",
    "        cur_dict = {}\n",
    "        k = 1\n",
    "        col = col_list[0]\n",
    "        cur_dict[col] = season\n",
    "\n",
    "        for j in team:\n",
    "            item = j.text\n",
    "            col = col_list[k]\n",
    "            if(col == \"xG\" or col == \"xGA\" or col == \"xPTS\"):\n",
    "                if \"+\" in item:\n",
    "                    item = item.split(\"+\")\n",
    "                    cur_dict[col] = item[0]\n",
    "                elif \"-\" in item:\n",
    "                    item = item.split(\"-\")\n",
    "                    cur_dict[col] = item[0]\n",
    "                else:\n",
    "                    cur_dict[col] = item\n",
    "            else:\n",
    "                cur_dict[col] = item\n",
    "            k += 1\n",
    "\n",
    "        cur = pd.DataFrame(data=[cur_dict])\n",
    "        teamdf = pd.concat([teamdf, cur])\n",
    "\n",
    "    col_list.remove(\"Team\")\n",
    "\n",
    "    teamdf[col_list]= teamdf[col_list].astype(float)\n",
    "    \n",
    "    return teamdf"
   ]
  },
  {
   "cell_type": "code",
   "execution_count": 49,
   "id": "09be47c8-e1f0-4734-8ab9-8c46ba808d51",
   "metadata": {
    "tags": []
   },
   "outputs": [],
   "source": [
    "bundes = get_team_stats(\"Bundesliga\", \"2021\")"
   ]
  },
  {
   "cell_type": "code",
   "execution_count": 50,
   "id": "51bde74f",
   "metadata": {},
   "outputs": [
    {
     "data": {
      "text/html": [
       "<div>\n",
       "<style scoped>\n",
       "    .dataframe tbody tr th:only-of-type {\n",
       "        vertical-align: middle;\n",
       "    }\n",
       "\n",
       "    .dataframe tbody tr th {\n",
       "        vertical-align: top;\n",
       "    }\n",
       "\n",
       "    .dataframe thead th {\n",
       "        text-align: right;\n",
       "    }\n",
       "</style>\n",
       "<table border=\"1\" class=\"dataframe\">\n",
       "  <thead>\n",
       "    <tr style=\"text-align: right;\">\n",
       "      <th></th>\n",
       "      <th>Season</th>\n",
       "      <th>Team</th>\n",
       "      <th>M</th>\n",
       "      <th>W</th>\n",
       "      <th>D</th>\n",
       "      <th>L</th>\n",
       "      <th>G</th>\n",
       "      <th>GA</th>\n",
       "      <th>PTS</th>\n",
       "      <th>xG</th>\n",
       "      <th>xGdiff</th>\n",
       "      <th>xGA</th>\n",
       "      <th>xGAdiff</th>\n",
       "      <th>xPTS</th>\n",
       "      <th>xPTSdiff</th>\n",
       "    </tr>\n",
       "  </thead>\n",
       "  <tbody>\n",
       "    <tr>\n",
       "      <th>0</th>\n",
       "      <td>2021.0</td>\n",
       "      <td>Bayern Munich</td>\n",
       "      <td>34.0</td>\n",
       "      <td>24.0</td>\n",
       "      <td>5.0</td>\n",
       "      <td>5.0</td>\n",
       "      <td>97.0</td>\n",
       "      <td>37.0</td>\n",
       "      <td>77.0</td>\n",
       "      <td>99.91</td>\n",
       "      <td>2.91</td>\n",
       "      <td>38.61</td>\n",
       "      <td>1.61</td>\n",
       "      <td>78.83</td>\n",
       "      <td>1.83</td>\n",
       "    </tr>\n",
       "  </tbody>\n",
       "</table>\n",
       "</div>"
      ],
      "text/plain": [
       "   Season           Team     M     W    D    L     G    GA   PTS     xG  \\\n",
       "0  2021.0  Bayern Munich  34.0  24.0  5.0  5.0  97.0  37.0  77.0  99.91   \n",
       "\n",
       "   xGdiff    xGA  xGAdiff   xPTS  xPTSdiff  \n",
       "0    2.91  38.61     1.61  78.83      1.83  "
      ]
     },
     "execution_count": 50,
     "metadata": {},
     "output_type": "execute_result"
    }
   ],
   "source": [
    "bundes.head(1)"
   ]
  },
  {
   "cell_type": "code",
   "execution_count": 51,
   "id": "4008c688-174c-4a21-84be-de4e20c6583d",
   "metadata": {},
   "outputs": [
    {
     "name": "stdout",
     "output_type": "stream",
     "text": [
      "<class 'pandas.core.frame.DataFrame'>\n",
      "Int64Index: 18 entries, 0 to 0\n",
      "Data columns (total 15 columns):\n",
      " #   Column    Non-Null Count  Dtype  \n",
      "---  ------    --------------  -----  \n",
      " 0   Season    18 non-null     float64\n",
      " 1   Team      18 non-null     object \n",
      " 2   M         18 non-null     float64\n",
      " 3   W         18 non-null     float64\n",
      " 4   D         18 non-null     float64\n",
      " 5   L         18 non-null     float64\n",
      " 6   G         18 non-null     float64\n",
      " 7   GA        18 non-null     float64\n",
      " 8   PTS       18 non-null     float64\n",
      " 9   xG        18 non-null     float64\n",
      " 10  xGdiff    18 non-null     float64\n",
      " 11  xGA       18 non-null     float64\n",
      " 12  xGAdiff   18 non-null     float64\n",
      " 13  xPTS      18 non-null     float64\n",
      " 14  xPTSdiff  18 non-null     float64\n",
      "dtypes: float64(14), object(1)\n",
      "memory usage: 2.2+ KB\n"
     ]
    }
   ],
   "source": [
    "bundes.info()"
   ]
  },
  {
   "cell_type": "code",
   "execution_count": 63,
   "id": "0d75410f",
   "metadata": {},
   "outputs": [],
   "source": [
    "url = f\"https://understat.com/league/Bundesliga/2021\"\n",
    "driver.get(url)\n",
    "html = driver.page_source\n",
    "players = driver.find_elements(\"xpath\", '//div[@id=\"league-chemp\"]/table/tbody/tr')[0]\n",
    "player = players.find_elements(\"xpath\", './/*')"
   ]
  },
  {
   "cell_type": "code",
   "execution_count": 64,
   "id": "9e35f515-3277-4752-8225-f7a3acd65cc0",
   "metadata": {},
   "outputs": [
    {
     "name": "stdout",
     "output_type": "stream",
     "text": [
      "Bayern Munich\n",
      "34\n",
      "24\n",
      "5\n",
      "5\n",
      "97\n",
      "37\n",
      "77\n",
      "99.91+2.91\n",
      "+2.91\n",
      "38.61+1.61\n",
      "+1.61\n",
      "78.83+1.83\n",
      "+1.83\n"
     ]
    }
   ],
   "source": [
    "i=0\n",
    "player = player[2:]\n",
    "while(i < len(player)):\n",
    "    print(player[i].text)\n",
    "    i += 1"
   ]
  },
  {
   "cell_type": "markdown",
   "id": "240340df",
   "metadata": {},
   "source": [
    "//td[@class=\"player-title\"]"
   ]
  },
  {
   "cell_type": "code",
   "execution_count": 70,
   "id": "9687b055",
   "metadata": {},
   "outputs": [],
   "source": [
    "player = players.find_elements(\"xpath\", './/*')"
   ]
  },
  {
   "cell_type": "code",
   "execution_count": 80,
   "id": "e484a614-cfe1-484d-a844-7f2527c40d5e",
   "metadata": {},
   "outputs": [
    {
     "data": {
      "text/plain": [
       "'Dominic Calvert-Lewin'"
      ]
     },
     "execution_count": 80,
     "metadata": {},
     "output_type": "execute_result"
    }
   ],
   "source": [
    "player[1].text"
   ]
  }
 ],
 "metadata": {
  "kernelspec": {
   "display_name": "Python 3 (ipykernel)",
   "language": "python",
   "name": "python3"
  },
  "language_info": {
   "codemirror_mode": {
    "name": "ipython",
    "version": 3
   },
   "file_extension": ".py",
   "mimetype": "text/x-python",
   "name": "python",
   "nbconvert_exporter": "python",
   "pygments_lexer": "ipython3",
   "version": "3.9.12"
  },
  "vscode": {
   "interpreter": {
    "hash": "e81edac1014f1ca5e3a0b37339d7af5a765e8f4dd9f013c8df08f8ec4492a3ab"
   }
  }
 },
 "nbformat": 4,
 "nbformat_minor": 5
}
