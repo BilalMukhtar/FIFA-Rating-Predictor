{
 "cells": [
  {
   "cell_type": "markdown",
   "id": "5dc6f6bb-e9fc-4104-9693-5792d1ffabd6",
   "metadata": {},
   "source": [
    "# Path\n",
    "\n",
    "For players:\n",
    "* Find player names that are not already in the database\n",
    "* Try to match names across data sources using fuzzy matching\n",
    "* For any that do not match, manually fix names\n",
    "\n",
    "For clubs:\n",
    "* Find club names that are not already in the database\n",
    "* Manually match club names and add correct ids\n",
    "    * Time could be saved with fuzzy matching"
   ]
  },
  {
   "cell_type": "code",
   "execution_count": 1,
   "id": "f21a06a1-f615-4a57-8aa9-73280c505de6",
   "metadata": {
    "tags": []
   },
   "outputs": [],
   "source": [
    "import numpy as np\n",
    "import pandas as pd\n",
    "\n",
    "futbin = pd.read_csv(\"csv files/futbin_2021.csv\")\n",
    "ustat = pd.read_csv(\"csv files/ustat_2021.csv\")\n",
    "\n",
    "fix_club_ids = pd.read_csv(\"data repair csvs/fix_club_ids.csv\")\n",
    "fix_name_ids = pd.read_csv(\"data repair csvs/fix_name_ids.csv\")"
   ]
  },
  {
   "cell_type": "code",
   "execution_count": 2,
   "id": "3854e9da-9ad6-4f35-b7d9-54236964fd70",
   "metadata": {
    "tags": []
   },
   "outputs": [],
   "source": [
    "futbin = futbin.rename(columns={\"name\": \"player_name\", \"club\": \"team_title\"})"
   ]
  },
  {
   "cell_type": "code",
   "execution_count": 3,
   "id": "900b8163-bd30-4119-bb41-bb128d3d982c",
   "metadata": {
    "scrolled": true,
    "tags": []
   },
   "outputs": [],
   "source": [
    "ustat.team_title = ustat.team_title.str.split(',')\n",
    "ustat = ustat.explode('team_title').reset_index(drop=True)"
   ]
  },
  {
   "cell_type": "markdown",
   "id": "6159e719-460c-497c-ad14-689cb18b0a52",
   "metadata": {},
   "source": [
    "## Match players to id\n",
    "* Valid from FIFA 23 -> FIFA 22"
   ]
  },
  {
   "cell_type": "code",
   "execution_count": 4,
   "id": "dbba0347-7a81-4114-b961-68d929ef15ca",
   "metadata": {
    "collapsed": true,
    "jupyter": {
     "outputs_hidden": true
    },
    "tags": []
   },
   "outputs": [],
   "source": [
    "# Remove players that have multiple FIFA cards in a given year (i.e. transfers or upgrades/downgrades)\n",
    "futbin = futbin.drop_duplicates(subset=['player_name']).reset_index()\n",
    "\n",
    "new_names = futbin['player_name']\n",
    "new_ids = futbin['player_id'].tolist()\n",
    "old_ids = fix_name_ids['id'].tolist()\n",
    "\n",
    "new_fb_names = []\n",
    "new_fb_ids = []\n",
    "\n",
    "# Add player name and id from futbin that are not already in the database\n",
    "for i in range(len(new_ids)):\n",
    "    if not new_ids[i] in old_ids:\n",
    "        new_fb_names.append(new_names[i])\n",
    "        new_fb_ids.append(new_ids[i])\n",
    "\n",
    "# Create dataframe with new/unmatched players\n",
    "new_players = pd.DataFrame()\n",
    "new_players['player_name'] = new_fb_names\n",
    "new_players['player_id'] = new_fb_ids"
   ]
  },
  {
   "cell_type": "code",
   "execution_count": 7,
   "id": "ea615c5b-8b6c-4db0-825e-fd1eb79bd5bc",
   "metadata": {
    "tags": []
   },
   "outputs": [],
   "source": [
    "from rapidfuzz import process, fuzz, utils\n",
    "\n",
    "def getMatchScore(futbin_df, understat_df, player_ids):\n",
    "    res_strings = []\n",
    "    for i in range(len(futbin_df)):\n",
    "        # Finds best possible match for each player name\n",
    "        cur = process.extract(futbin_df[i], understat_df, scorer=fuzz.token_set_ratio, limit=1, processor=utils.default_process)\n",
    "        # Create result containing futbin_id, futbin player name, understat player name, and score generated from function\n",
    "        res_strings.append([player_ids[i], futbin_df[i], cur[0][0], cur[0][1]])\n",
    "\n",
    "    return res_strings"
   ]
  },
  {
   "cell_type": "code",
   "execution_count": 8,
   "id": "450a8f47-7350-47aa-a238-fc60ea3f022b",
   "metadata": {
    "collapsed": true,
    "jupyter": {
     "outputs_hidden": true
    },
    "tags": []
   },
   "outputs": [],
   "source": [
    "# Creates a list of all old and new names to match to the new set of players\n",
    "tot_ustat = list(set(fix_name_ids.ustat_name) | set(ustat.player_name))\n",
    "\n",
    "# Match new names to the list of player names\n",
    "finds = pd.DataFrame(getMatchScore(new_players.player_name, tot_ustat, new_players.player_id), \n",
    "                     columns = ['id', 'futbin_name', 'ustat_name', 'score'])"
   ]
  },
  {
   "cell_type": "code",
   "execution_count": 9,
   "id": "7659bebb-9454-4cde-8056-191505f89c64",
   "metadata": {
    "tags": []
   },
   "outputs": [],
   "source": [
    "# Export to a temporary csv for manually data cleaning, sorted by score\n",
    "finds.sort_values(by='score').to_csv(\"data repair csvs/check_names.csv\", index=False)"
   ]
  },
  {
   "cell_type": "code",
   "execution_count": 10,
   "id": "0e77d42b-062f-41e3-bf46-508917ff921b",
   "metadata": {
    "tags": []
   },
   "outputs": [],
   "source": [
    "# Append the cleaned data to the existing list of players\n",
    "temp = pd.read_csv(\"data repair csvs/check_names.csv\")\n",
    "unpack_nam = pd.concat([fix_name_ids, temp], ignore_index=True, sort=False)\n",
    "unpack_nam.to_csv(\"data repair csvs/fix_name_ids.csv\", index=False)"
   ]
  },
  {
   "cell_type": "markdown",
   "id": "3ab1c66c-0766-4d39-8f2e-825990efa56a",
   "metadata": {},
   "source": [
    "## Match club to id\n",
    "* Valid from FIFA 23 -> FIFA 22"
   ]
  },
  {
   "cell_type": "code",
   "execution_count": 101,
   "id": "86a96a43-68f5-4c74-ac0b-52b939291bea",
   "metadata": {
    "collapsed": true,
    "jupyter": {
     "outputs_hidden": true
    }
   },
   "outputs": [
    {
     "data": {
      "text/html": [
       "<div>\n",
       "<style scoped>\n",
       "    .dataframe tbody tr th:only-of-type {\n",
       "        vertical-align: middle;\n",
       "    }\n",
       "\n",
       "    .dataframe tbody tr th {\n",
       "        vertical-align: top;\n",
       "    }\n",
       "\n",
       "    .dataframe thead th {\n",
       "        text-align: right;\n",
       "    }\n",
       "</style>\n",
       "<table border=\"1\" class=\"dataframe\">\n",
       "  <thead>\n",
       "    <tr style=\"text-align: right;\">\n",
       "      <th></th>\n",
       "      <th>fb_team</th>\n",
       "      <th>futbin_id</th>\n",
       "      <th>us_team</th>\n",
       "      <th>db_id</th>\n",
       "    </tr>\n",
       "  </thead>\n",
       "  <tbody>\n",
       "    <tr>\n",
       "      <th>0</th>\n",
       "      <td>Toulouse FC</td>\n",
       "      <td>1809</td>\n",
       "      <td>Toulouse</td>\n",
       "      <td>1</td>\n",
       "    </tr>\n",
       "    <tr>\n",
       "      <th>1</th>\n",
       "      <td>1. FC Köln</td>\n",
       "      <td>31</td>\n",
       "      <td>FC Cologne</td>\n",
       "      <td>2</td>\n",
       "    </tr>\n",
       "    <tr>\n",
       "      <th>2</th>\n",
       "      <td>1. FSV Mainz 05</td>\n",
       "      <td>169</td>\n",
       "      <td>Mainz 05</td>\n",
       "      <td>3</td>\n",
       "    </tr>\n",
       "    <tr>\n",
       "      <th>3</th>\n",
       "      <td>AC Ajaccio</td>\n",
       "      <td>614</td>\n",
       "      <td>Ajaccio</td>\n",
       "      <td>4</td>\n",
       "    </tr>\n",
       "    <tr>\n",
       "      <th>4</th>\n",
       "      <td>AC Monza</td>\n",
       "      <td>111811</td>\n",
       "      <td>Monza</td>\n",
       "      <td>5</td>\n",
       "    </tr>\n",
       "    <tr>\n",
       "      <th>...</th>\n",
       "      <td>...</td>\n",
       "      <td>...</td>\n",
       "      <td>...</td>\n",
       "      <td>...</td>\n",
       "    </tr>\n",
       "    <tr>\n",
       "      <th>93</th>\n",
       "      <td>VfL Wolfsburg</td>\n",
       "      <td>175</td>\n",
       "      <td>Wolfsburg</td>\n",
       "      <td>94</td>\n",
       "    </tr>\n",
       "    <tr>\n",
       "      <th>94</th>\n",
       "      <td>Villarreal CF</td>\n",
       "      <td>483</td>\n",
       "      <td>Villarreal</td>\n",
       "      <td>95</td>\n",
       "    </tr>\n",
       "    <tr>\n",
       "      <th>95</th>\n",
       "      <td>Werder Bremen</td>\n",
       "      <td>38</td>\n",
       "      <td>Werder Bremen</td>\n",
       "      <td>96</td>\n",
       "    </tr>\n",
       "    <tr>\n",
       "      <th>96</th>\n",
       "      <td>West Ham</td>\n",
       "      <td>19</td>\n",
       "      <td>West Ham</td>\n",
       "      <td>97</td>\n",
       "    </tr>\n",
       "    <tr>\n",
       "      <th>97</th>\n",
       "      <td>Wolves</td>\n",
       "      <td>110</td>\n",
       "      <td>Wolverhampton Wanderers</td>\n",
       "      <td>98</td>\n",
       "    </tr>\n",
       "  </tbody>\n",
       "</table>\n",
       "<p>98 rows × 4 columns</p>\n",
       "</div>"
      ],
      "text/plain": [
       "            fb_team  futbin_id                  us_team  db_id\n",
       "0       Toulouse FC       1809                 Toulouse      1\n",
       "1        1. FC Köln         31               FC Cologne      2\n",
       "2   1. FSV Mainz 05        169                 Mainz 05      3\n",
       "3        AC Ajaccio        614                  Ajaccio      4\n",
       "4          AC Monza     111811                    Monza      5\n",
       "..              ...        ...                      ...    ...\n",
       "93    VfL Wolfsburg        175                Wolfsburg     94\n",
       "94    Villarreal CF        483               Villarreal     95\n",
       "95    Werder Bremen         38            Werder Bremen     96\n",
       "96         West Ham         19                 West Ham     97\n",
       "97           Wolves        110  Wolverhampton Wanderers     98\n",
       "\n",
       "[98 rows x 4 columns]"
      ]
     },
     "execution_count": 101,
     "metadata": {},
     "output_type": "execute_result"
    }
   ],
   "source": [
    "fix_club_ids"
   ]
  },
  {
   "cell_type": "code",
   "execution_count": 14,
   "id": "6fbcb8dc-e1b9-4c42-a017-93c71e965f9f",
   "metadata": {
    "tags": []
   },
   "outputs": [],
   "source": [
    "# Creates a dictionary containing club names and ids from futbin\n",
    "\n",
    "db_id_dict = {}\n",
    "\n",
    "fb_t = futbin.team_title\n",
    "idlist = futbin.club_id\n",
    "    \n",
    "for i in range(len(fb_t)):\n",
    "    cur = fb_t[i]\n",
    "    if not cur in db_id_dict:\n",
    "        db_id_dict[cur] = idlist[i]\n",
    "        \n",
    "#db_id_dict"
   ]
  },
  {
   "cell_type": "code",
   "execution_count": 15,
   "id": "3c3bde69-28a3-4c10-b8bc-f5b9459ba29a",
   "metadata": {
    "tags": []
   },
   "outputs": [],
   "source": [
    "# Get all of the names and ids from futbin along with the names and ids already in the database\n",
    "clubs = list(db_id_dict)\n",
    "new_ids = list(db_id_dict.values())\n",
    "old_ids = fix_club_ids['futbin_id'].tolist()\n",
    "old_ustat = fix_club_ids['us_team']\n",
    "\n",
    "new_clubs = pd.DataFrame()\n",
    "\n",
    "# Find only the new names fetched from understat\n",
    "new_ustat_name = list(set(ustat.team_title.unique()).difference(old_ustat))\n",
    "new_fb_name = []\n",
    "new_fb_id = []\n",
    "\n",
    "# If the team is new, add their name and id to the club id file\n",
    "for i in range(len(new_ids)):\n",
    "    if not int(new_ids[i]) in old_ids:\n",
    "        new_fb_name.append(clubs[i])\n",
    "        new_fb_id.append(new_ids[i])\n",
    "        \n",
    "new_clubs['fb_team'] = new_fb_name\n",
    "new_clubs['futbin_id'] = new_fb_id\n",
    "\n",
    "# For clubs that do not have matching ids or had a name change, add extra values to the id column\n",
    "for i in range(len(new_fb_name) - len(new_ustat_name)):\n",
    "    new_ustat_name.append('None')\n",
    "\n",
    "new_clubs['us_team'] = new_ustat_name\n",
    "new_clubs['db_id'] = [0 for i in range(len(new_ustat_name))]\n",
    "\n",
    "# Combine the old club ids csv and the new clubs, then export for manual repair\n",
    "fix_club_ids = pd.concat([fix_club_ids, new_clubs], ignore_index=True, sort=False)\n",
    "fix_club_ids.to_csv('data repair csvs/fix_club_ids.csv', index=False)"
   ]
  }
 ],
 "metadata": {
  "kernelspec": {
   "display_name": "Python 3 (ipykernel)",
   "language": "python",
   "name": "python3"
  },
  "language_info": {
   "codemirror_mode": {
    "name": "ipython",
    "version": 3
   },
   "file_extension": ".py",
   "mimetype": "text/x-python",
   "name": "python",
   "nbconvert_exporter": "python",
   "pygments_lexer": "ipython3",
   "version": "3.10.11"
  }
 },
 "nbformat": 4,
 "nbformat_minor": 5
}
