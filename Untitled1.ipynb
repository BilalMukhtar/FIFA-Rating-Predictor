{
 "cells": [
  {
   "cell_type": "code",
   "execution_count": 1,
   "id": "bd072c03",
   "metadata": {},
   "outputs": [],
   "source": [
    "from bs4 import BeautifulSoup\n",
    "import requests, time\n",
    "import pandas as pd\n",
    "import numpy as np\n",
    "import re\n",
    "from selenium import webdriver\n",
    "from selenium.webdriver.common.keys import Keys"
   ]
  },
  {
   "cell_type": "code",
   "execution_count": 2,
   "id": "558949af",
   "metadata": {},
   "outputs": [
    {
     "name": "stderr",
     "output_type": "stream",
     "text": [
      "/var/folders/61/zxwl6cdd4hj6rqs1s7tbw4lc0000gn/T/ipykernel_37489/623014066.py:1: DeprecationWarning: executable_path has been deprecated, please pass in a Service object\n",
      "  driver = webdriver.Chrome(\"//chromedriver\")\n"
     ]
    },
    {
     "ename": "WebDriverException",
     "evalue": "Message: 'chromedriver' executable needs to be in PATH. Please see https://chromedriver.chromium.org/home\n",
     "output_type": "error",
     "traceback": [
      "\u001b[0;31m---------------------------------------------------------------------------\u001b[0m",
      "\u001b[0;31mFileNotFoundError\u001b[0m                         Traceback (most recent call last)",
      "File \u001b[0;32m~/opt/anaconda3/lib/python3.9/site-packages/selenium/webdriver/common/service.py:71\u001b[0m, in \u001b[0;36mService.start\u001b[0;34m(self)\u001b[0m\n\u001b[1;32m     70\u001b[0m     cmd\u001b[38;5;241m.\u001b[39mextend(\u001b[38;5;28mself\u001b[39m\u001b[38;5;241m.\u001b[39mcommand_line_args())\n\u001b[0;32m---> 71\u001b[0m     \u001b[38;5;28mself\u001b[39m\u001b[38;5;241m.\u001b[39mprocess \u001b[38;5;241m=\u001b[39m \u001b[43msubprocess\u001b[49m\u001b[38;5;241;43m.\u001b[39;49m\u001b[43mPopen\u001b[49m\u001b[43m(\u001b[49m\u001b[43mcmd\u001b[49m\u001b[43m,\u001b[49m\u001b[43m \u001b[49m\u001b[43menv\u001b[49m\u001b[38;5;241;43m=\u001b[39;49m\u001b[38;5;28;43mself\u001b[39;49m\u001b[38;5;241;43m.\u001b[39;49m\u001b[43menv\u001b[49m\u001b[43m,\u001b[49m\n\u001b[1;32m     72\u001b[0m \u001b[43m                                    \u001b[49m\u001b[43mclose_fds\u001b[49m\u001b[38;5;241;43m=\u001b[39;49m\u001b[43msystem\u001b[49m\u001b[43m(\u001b[49m\u001b[43m)\u001b[49m\u001b[43m \u001b[49m\u001b[38;5;241;43m!=\u001b[39;49m\u001b[43m \u001b[49m\u001b[38;5;124;43m'\u001b[39;49m\u001b[38;5;124;43mWindows\u001b[39;49m\u001b[38;5;124;43m'\u001b[39;49m\u001b[43m,\u001b[49m\n\u001b[1;32m     73\u001b[0m \u001b[43m                                    \u001b[49m\u001b[43mstdout\u001b[49m\u001b[38;5;241;43m=\u001b[39;49m\u001b[38;5;28;43mself\u001b[39;49m\u001b[38;5;241;43m.\u001b[39;49m\u001b[43mlog_file\u001b[49m\u001b[43m,\u001b[49m\n\u001b[1;32m     74\u001b[0m \u001b[43m                                    \u001b[49m\u001b[43mstderr\u001b[49m\u001b[38;5;241;43m=\u001b[39;49m\u001b[38;5;28;43mself\u001b[39;49m\u001b[38;5;241;43m.\u001b[39;49m\u001b[43mlog_file\u001b[49m\u001b[43m,\u001b[49m\n\u001b[1;32m     75\u001b[0m \u001b[43m                                    \u001b[49m\u001b[43mstdin\u001b[49m\u001b[38;5;241;43m=\u001b[39;49m\u001b[43mPIPE\u001b[49m\u001b[43m,\u001b[49m\n\u001b[1;32m     76\u001b[0m \u001b[43m                                    \u001b[49m\u001b[43mcreationflags\u001b[49m\u001b[38;5;241;43m=\u001b[39;49m\u001b[38;5;28;43mself\u001b[39;49m\u001b[38;5;241;43m.\u001b[39;49m\u001b[43mcreationflags\u001b[49m\u001b[43m)\u001b[49m\n\u001b[1;32m     77\u001b[0m \u001b[38;5;28;01mexcept\u001b[39;00m \u001b[38;5;167;01mTypeError\u001b[39;00m:\n",
      "File \u001b[0;32m~/opt/anaconda3/lib/python3.9/subprocess.py:951\u001b[0m, in \u001b[0;36mPopen.__init__\u001b[0;34m(self, args, bufsize, executable, stdin, stdout, stderr, preexec_fn, close_fds, shell, cwd, env, universal_newlines, startupinfo, creationflags, restore_signals, start_new_session, pass_fds, user, group, extra_groups, encoding, errors, text, umask)\u001b[0m\n\u001b[1;32m    948\u001b[0m             \u001b[38;5;28mself\u001b[39m\u001b[38;5;241m.\u001b[39mstderr \u001b[38;5;241m=\u001b[39m io\u001b[38;5;241m.\u001b[39mTextIOWrapper(\u001b[38;5;28mself\u001b[39m\u001b[38;5;241m.\u001b[39mstderr,\n\u001b[1;32m    949\u001b[0m                     encoding\u001b[38;5;241m=\u001b[39mencoding, errors\u001b[38;5;241m=\u001b[39merrors)\n\u001b[0;32m--> 951\u001b[0m     \u001b[38;5;28;43mself\u001b[39;49m\u001b[38;5;241;43m.\u001b[39;49m\u001b[43m_execute_child\u001b[49m\u001b[43m(\u001b[49m\u001b[43margs\u001b[49m\u001b[43m,\u001b[49m\u001b[43m \u001b[49m\u001b[43mexecutable\u001b[49m\u001b[43m,\u001b[49m\u001b[43m \u001b[49m\u001b[43mpreexec_fn\u001b[49m\u001b[43m,\u001b[49m\u001b[43m \u001b[49m\u001b[43mclose_fds\u001b[49m\u001b[43m,\u001b[49m\n\u001b[1;32m    952\u001b[0m \u001b[43m                        \u001b[49m\u001b[43mpass_fds\u001b[49m\u001b[43m,\u001b[49m\u001b[43m \u001b[49m\u001b[43mcwd\u001b[49m\u001b[43m,\u001b[49m\u001b[43m \u001b[49m\u001b[43menv\u001b[49m\u001b[43m,\u001b[49m\n\u001b[1;32m    953\u001b[0m \u001b[43m                        \u001b[49m\u001b[43mstartupinfo\u001b[49m\u001b[43m,\u001b[49m\u001b[43m \u001b[49m\u001b[43mcreationflags\u001b[49m\u001b[43m,\u001b[49m\u001b[43m \u001b[49m\u001b[43mshell\u001b[49m\u001b[43m,\u001b[49m\n\u001b[1;32m    954\u001b[0m \u001b[43m                        \u001b[49m\u001b[43mp2cread\u001b[49m\u001b[43m,\u001b[49m\u001b[43m \u001b[49m\u001b[43mp2cwrite\u001b[49m\u001b[43m,\u001b[49m\n\u001b[1;32m    955\u001b[0m \u001b[43m                        \u001b[49m\u001b[43mc2pread\u001b[49m\u001b[43m,\u001b[49m\u001b[43m \u001b[49m\u001b[43mc2pwrite\u001b[49m\u001b[43m,\u001b[49m\n\u001b[1;32m    956\u001b[0m \u001b[43m                        \u001b[49m\u001b[43merrread\u001b[49m\u001b[43m,\u001b[49m\u001b[43m \u001b[49m\u001b[43merrwrite\u001b[49m\u001b[43m,\u001b[49m\n\u001b[1;32m    957\u001b[0m \u001b[43m                        \u001b[49m\u001b[43mrestore_signals\u001b[49m\u001b[43m,\u001b[49m\n\u001b[1;32m    958\u001b[0m \u001b[43m                        \u001b[49m\u001b[43mgid\u001b[49m\u001b[43m,\u001b[49m\u001b[43m \u001b[49m\u001b[43mgids\u001b[49m\u001b[43m,\u001b[49m\u001b[43m \u001b[49m\u001b[43muid\u001b[49m\u001b[43m,\u001b[49m\u001b[43m \u001b[49m\u001b[43mumask\u001b[49m\u001b[43m,\u001b[49m\n\u001b[1;32m    959\u001b[0m \u001b[43m                        \u001b[49m\u001b[43mstart_new_session\u001b[49m\u001b[43m)\u001b[49m\n\u001b[1;32m    960\u001b[0m \u001b[38;5;28;01mexcept\u001b[39;00m:\n\u001b[1;32m    961\u001b[0m     \u001b[38;5;66;03m# Cleanup if the child failed starting.\u001b[39;00m\n",
      "File \u001b[0;32m~/opt/anaconda3/lib/python3.9/subprocess.py:1821\u001b[0m, in \u001b[0;36mPopen._execute_child\u001b[0;34m(self, args, executable, preexec_fn, close_fds, pass_fds, cwd, env, startupinfo, creationflags, shell, p2cread, p2cwrite, c2pread, c2pwrite, errread, errwrite, restore_signals, gid, gids, uid, umask, start_new_session)\u001b[0m\n\u001b[1;32m   1820\u001b[0m         err_msg \u001b[38;5;241m=\u001b[39m os\u001b[38;5;241m.\u001b[39mstrerror(errno_num)\n\u001b[0;32m-> 1821\u001b[0m     \u001b[38;5;28;01mraise\u001b[39;00m child_exception_type(errno_num, err_msg, err_filename)\n\u001b[1;32m   1822\u001b[0m \u001b[38;5;28;01mraise\u001b[39;00m child_exception_type(err_msg)\n",
      "\u001b[0;31mFileNotFoundError\u001b[0m: [Errno 2] No such file or directory: '//chromedriver'",
      "\nDuring handling of the above exception, another exception occurred:\n",
      "\u001b[0;31mWebDriverException\u001b[0m                        Traceback (most recent call last)",
      "Input \u001b[0;32mIn [40]\u001b[0m, in \u001b[0;36m<cell line: 1>\u001b[0;34m()\u001b[0m\n\u001b[0;32m----> 1\u001b[0m driver \u001b[38;5;241m=\u001b[39m \u001b[43mwebdriver\u001b[49m\u001b[38;5;241;43m.\u001b[39;49m\u001b[43mChrome\u001b[49m\u001b[43m(\u001b[49m\u001b[38;5;124;43m\"\u001b[39;49m\u001b[38;5;124;43m//chromedriver\u001b[39;49m\u001b[38;5;124;43m\"\u001b[39;49m\u001b[43m)\u001b[49m\n",
      "File \u001b[0;32m~/opt/anaconda3/lib/python3.9/site-packages/selenium/webdriver/chrome/webdriver.py:69\u001b[0m, in \u001b[0;36mWebDriver.__init__\u001b[0;34m(self, executable_path, port, options, service_args, desired_capabilities, service_log_path, chrome_options, service, keep_alive)\u001b[0m\n\u001b[1;32m     66\u001b[0m \u001b[38;5;28;01mif\u001b[39;00m \u001b[38;5;129;01mnot\u001b[39;00m service:\n\u001b[1;32m     67\u001b[0m     service \u001b[38;5;241m=\u001b[39m Service(executable_path, port, service_args, service_log_path)\n\u001b[0;32m---> 69\u001b[0m \u001b[38;5;28;43msuper\u001b[39;49m\u001b[43m(\u001b[49m\u001b[43m)\u001b[49m\u001b[38;5;241;43m.\u001b[39;49m\u001b[38;5;21;43m__init__\u001b[39;49m\u001b[43m(\u001b[49m\u001b[43mDesiredCapabilities\u001b[49m\u001b[38;5;241;43m.\u001b[39;49m\u001b[43mCHROME\u001b[49m\u001b[43m[\u001b[49m\u001b[38;5;124;43m'\u001b[39;49m\u001b[38;5;124;43mbrowserName\u001b[39;49m\u001b[38;5;124;43m'\u001b[39;49m\u001b[43m]\u001b[49m\u001b[43m,\u001b[49m\u001b[43m \u001b[49m\u001b[38;5;124;43m\"\u001b[39;49m\u001b[38;5;124;43mgoog\u001b[39;49m\u001b[38;5;124;43m\"\u001b[39;49m\u001b[43m,\u001b[49m\n\u001b[1;32m     70\u001b[0m \u001b[43m                 \u001b[49m\u001b[43mport\u001b[49m\u001b[43m,\u001b[49m\u001b[43m \u001b[49m\u001b[43moptions\u001b[49m\u001b[43m,\u001b[49m\n\u001b[1;32m     71\u001b[0m \u001b[43m                 \u001b[49m\u001b[43mservice_args\u001b[49m\u001b[43m,\u001b[49m\u001b[43m \u001b[49m\u001b[43mdesired_capabilities\u001b[49m\u001b[43m,\u001b[49m\n\u001b[1;32m     72\u001b[0m \u001b[43m                 \u001b[49m\u001b[43mservice_log_path\u001b[49m\u001b[43m,\u001b[49m\u001b[43m \u001b[49m\u001b[43mservice\u001b[49m\u001b[43m,\u001b[49m\u001b[43m \u001b[49m\u001b[43mkeep_alive\u001b[49m\u001b[43m)\u001b[49m\n",
      "File \u001b[0;32m~/opt/anaconda3/lib/python3.9/site-packages/selenium/webdriver/chromium/webdriver.py:89\u001b[0m, in \u001b[0;36mChromiumDriver.__init__\u001b[0;34m(self, browser_name, vendor_prefix, port, options, service_args, desired_capabilities, service_log_path, service, keep_alive)\u001b[0m\n\u001b[1;32m     86\u001b[0m     \u001b[38;5;28;01mraise\u001b[39;00m \u001b[38;5;167;01mAttributeError\u001b[39;00m(\u001b[38;5;124m'\u001b[39m\u001b[38;5;124mservice cannot be None\u001b[39m\u001b[38;5;124m'\u001b[39m)\n\u001b[1;32m     88\u001b[0m \u001b[38;5;28mself\u001b[39m\u001b[38;5;241m.\u001b[39mservice \u001b[38;5;241m=\u001b[39m service\n\u001b[0;32m---> 89\u001b[0m \u001b[38;5;28;43mself\u001b[39;49m\u001b[38;5;241;43m.\u001b[39;49m\u001b[43mservice\u001b[49m\u001b[38;5;241;43m.\u001b[39;49m\u001b[43mstart\u001b[49m\u001b[43m(\u001b[49m\u001b[43m)\u001b[49m\n\u001b[1;32m     91\u001b[0m \u001b[38;5;28;01mtry\u001b[39;00m:\n\u001b[1;32m     92\u001b[0m     \u001b[38;5;28msuper\u001b[39m()\u001b[38;5;241m.\u001b[39m\u001b[38;5;21m__init__\u001b[39m(\n\u001b[1;32m     93\u001b[0m         command_executor\u001b[38;5;241m=\u001b[39mChromiumRemoteConnection(\n\u001b[1;32m     94\u001b[0m             remote_server_addr\u001b[38;5;241m=\u001b[39m\u001b[38;5;28mself\u001b[39m\u001b[38;5;241m.\u001b[39mservice\u001b[38;5;241m.\u001b[39mservice_url,\n\u001b[1;32m     95\u001b[0m             browser_name\u001b[38;5;241m=\u001b[39mbrowser_name, vendor_prefix\u001b[38;5;241m=\u001b[39mvendor_prefix,\n\u001b[1;32m     96\u001b[0m             keep_alive\u001b[38;5;241m=\u001b[39mkeep_alive, ignore_proxy\u001b[38;5;241m=\u001b[39m_ignore_proxy),\n\u001b[1;32m     97\u001b[0m         options\u001b[38;5;241m=\u001b[39moptions)\n",
      "File \u001b[0;32m~/opt/anaconda3/lib/python3.9/site-packages/selenium/webdriver/common/service.py:81\u001b[0m, in \u001b[0;36mService.start\u001b[0;34m(self)\u001b[0m\n\u001b[1;32m     79\u001b[0m \u001b[38;5;28;01mexcept\u001b[39;00m \u001b[38;5;167;01mOSError\u001b[39;00m \u001b[38;5;28;01mas\u001b[39;00m err:\n\u001b[1;32m     80\u001b[0m     \u001b[38;5;28;01mif\u001b[39;00m err\u001b[38;5;241m.\u001b[39merrno \u001b[38;5;241m==\u001b[39m errno\u001b[38;5;241m.\u001b[39mENOENT:\n\u001b[0;32m---> 81\u001b[0m         \u001b[38;5;28;01mraise\u001b[39;00m WebDriverException(\n\u001b[1;32m     82\u001b[0m             \u001b[38;5;124m\"\u001b[39m\u001b[38;5;124m'\u001b[39m\u001b[38;5;132;01m{}\u001b[39;00m\u001b[38;5;124m'\u001b[39m\u001b[38;5;124m executable needs to be in PATH. \u001b[39m\u001b[38;5;132;01m{}\u001b[39;00m\u001b[38;5;124m\"\u001b[39m\u001b[38;5;241m.\u001b[39mformat(\n\u001b[1;32m     83\u001b[0m                 os\u001b[38;5;241m.\u001b[39mpath\u001b[38;5;241m.\u001b[39mbasename(\u001b[38;5;28mself\u001b[39m\u001b[38;5;241m.\u001b[39mpath), \u001b[38;5;28mself\u001b[39m\u001b[38;5;241m.\u001b[39mstart_error_message)\n\u001b[1;32m     84\u001b[0m         )\n\u001b[1;32m     85\u001b[0m     \u001b[38;5;28;01melif\u001b[39;00m err\u001b[38;5;241m.\u001b[39merrno \u001b[38;5;241m==\u001b[39m errno\u001b[38;5;241m.\u001b[39mEACCES:\n\u001b[1;32m     86\u001b[0m         \u001b[38;5;28;01mraise\u001b[39;00m WebDriverException(\n\u001b[1;32m     87\u001b[0m             \u001b[38;5;124m\"\u001b[39m\u001b[38;5;124m'\u001b[39m\u001b[38;5;132;01m{}\u001b[39;00m\u001b[38;5;124m'\u001b[39m\u001b[38;5;124m executable may have wrong permissions. \u001b[39m\u001b[38;5;132;01m{}\u001b[39;00m\u001b[38;5;124m\"\u001b[39m\u001b[38;5;241m.\u001b[39mformat(\n\u001b[1;32m     88\u001b[0m                 os\u001b[38;5;241m.\u001b[39mpath\u001b[38;5;241m.\u001b[39mbasename(\u001b[38;5;28mself\u001b[39m\u001b[38;5;241m.\u001b[39mpath), \u001b[38;5;28mself\u001b[39m\u001b[38;5;241m.\u001b[39mstart_error_message)\n\u001b[1;32m     89\u001b[0m         )\n",
      "\u001b[0;31mWebDriverException\u001b[0m: Message: 'chromedriver' executable needs to be in PATH. Please see https://chromedriver.chromium.org/home\n"
     ]
    }
   ],
   "source": [
    "driver = webdriver.Chrome(\"/Users/sheikhbman/Desktop/My Projects/fbdict/chromedriver\")"
   ]
  },
  {
   "cell_type": "code",
   "execution_count": 45,
   "id": "f7c45ffd-ee4c-4065-a5d8-969110cdd2bb",
   "metadata": {
    "tags": []
   },
   "outputs": [],
   "source": [
    "def getTeamList(league, season):\n",
    "    url = f\"https://understat.com/league/{league}/{season}\"\n",
    "    driver.get(url)\n",
    "    html = driver.page_source\n",
    "\n",
    "    teams = driver.find_elements(\"xpath\", '//div[@id=\"league-chemp\"]/table/tbody/tr')\n",
    "    teamList = []\n",
    "\n",
    "    for i in teams:\n",
    "        team = i.find_elements(\"xpath\", './/*')\n",
    "        curTeam = team[1].text\n",
    "        teamList.append(curTeam)\n",
    "    \n",
    "    for i in team:\n",
    "        print(i.text)\n",
    "        \n",
    "    return teamList"
   ]
  },
  {
   "cell_type": "code",
   "execution_count": 37,
   "id": "c01c5b75-3add-4226-aca2-b7ce90165380",
   "metadata": {},
   "outputs": [],
   "source": [
    "def getTeamPlayers(team, season):\n",
    "    url = f\"https://understat.com/team/{team}/{season}\"\n",
    "    driver.get(url)\n",
    "    html = driver.page_source\n",
    "    \n",
    "    colList = [\"Season\", \"Team\", \"M\", \"W\", \"D\", \"L\", \"G\", \"A\", \"Sh90\", \n",
    "               \"KP90\", \"xG\", \"xGdiff\", \"xA\", \"xAdiff\", \"xG90\", \"xA90\"] \n",
    "\n",
    "    playerdf = pd.DataFrame(columns = colList)\n",
    "\n",
    "    players = driver.find_elements(\"xpath\", '//div[@id=\"team-players\"]/table/tbody/tr')\n",
    "    players = players[:len(players) - 1]\n",
    "\n",
    "    for i in players:\n",
    "        player = i.find_elements(\"xpath\", './/*')\n",
    "        player = player[2:]\n",
    "        curDict = {}\n",
    "        k = 2\n",
    "        col = colList[0]\n",
    "        curDict[col] = season\n",
    "        col = colList[1]\n",
    "        curDict[col] = team\n",
    "\n",
    "        for j in player:\n",
    "            item = j.text\n",
    "            col = colList[k]\n",
    "            if(col == \"xG\" or col == \"xA\"):\n",
    "                if \"+\" in item:\n",
    "                    item = item.split(\"+\")\n",
    "                    curDict[col] = item[0]\n",
    "                elif \"-\" in item:\n",
    "                    item = item.split(\"-\")\n",
    "                    curDict[col] = item[0]\n",
    "                else:\n",
    "                    curDict[col] = item\n",
    "            else:\n",
    "                curDict[col] = item\n",
    "            k += 1\n",
    "\n",
    "        cur = pd.DataFrame(data=[curDict])\n",
    "        playerdf = pd.concat([playerdf, cur])\n",
    "    \n",
    "    return playerdf"
   ]
  },
  {
   "cell_type": "code",
   "execution_count": 13,
   "id": "0b92ab2f-bab7-4814-a3d7-518d51981fe2",
   "metadata": {},
   "outputs": [],
   "source": [
    "def getLeaguePlayers(league, season):\n",
    "    teams = getTeamList(league, season)\n",
    "    teamNum = 0\n",
    "    \n",
    "    for i in teams:\n",
    "        curTeam = getTeamPlayers(teams[teamNum], season)\n",
    "        \n",
    "        if(teamNum == 0):\n",
    "            df = curTeam\n",
    "        else:\n",
    "            df = pd.concat([df, curTeam])\n",
    "            \n",
    "        teamNum += 1\n",
    "            \n",
    "    return df"
   ]
  },
  {
   "cell_type": "code",
   "execution_count": 46,
   "id": "09be47c8-e1f0-4734-8ab9-8c46ba808d51",
   "metadata": {},
   "outputs": [
    {
     "name": "stdout",
     "output_type": "stream",
     "text": [
      "18\n",
      "Greuther Fuerth\n",
      "Greuther Fuerth\n",
      "34\n",
      "3\n",
      "9\n",
      "22\n",
      "28\n",
      "82\n",
      "18\n",
      "30.64+2.64\n",
      "+2.64\n",
      "60.54-21.46\n",
      "-21.46\n",
      "26.48+8.48\n",
      "+8.48\n"
     ]
    }
   ],
   "source": [
    "bunde = getTeamList(\"Bundesliga\", \"2021\")"
   ]
  },
  {
   "cell_type": "code",
   "execution_count": 36,
   "id": "4008c688-174c-4a21-84be-de4e20c6583d",
   "metadata": {},
   "outputs": [
    {
     "data": {
      "text/plain": [
       "0    35\n",
       "Name: G, dtype: object"
      ]
     },
     "execution_count": 36,
     "metadata": {},
     "output_type": "execute_result"
    }
   ],
   "source": [
    "bundes[\"G\"].head(1)"
   ]
  },
  {
   "cell_type": "code",
   "execution_count": 38,
   "id": "53f74726-9b16-4c99-829c-4cb51f14a092",
   "metadata": {},
   "outputs": [],
   "source": [
    "ev = getTeamPlayers(\"Everton\", \"2021\")"
   ]
  },
  {
   "cell_type": "code",
   "execution_count": 39,
   "id": "b7b64adb-650c-4ba5-a67b-816247d5fa80",
   "metadata": {},
   "outputs": [
    {
     "data": {
      "text/html": [
       "<div>\n",
       "<style scoped>\n",
       "    .dataframe tbody tr th:only-of-type {\n",
       "        vertical-align: middle;\n",
       "    }\n",
       "\n",
       "    .dataframe tbody tr th {\n",
       "        vertical-align: top;\n",
       "    }\n",
       "\n",
       "    .dataframe thead th {\n",
       "        text-align: right;\n",
       "    }\n",
       "</style>\n",
       "<table border=\"1\" class=\"dataframe\">\n",
       "  <thead>\n",
       "    <tr style=\"text-align: right;\">\n",
       "      <th></th>\n",
       "      <th>Season</th>\n",
       "      <th>Team</th>\n",
       "      <th>Player</th>\n",
       "      <th>Pos</th>\n",
       "      <th>Apps</th>\n",
       "      <th>Min</th>\n",
       "      <th>G</th>\n",
       "      <th>A</th>\n",
       "      <th>Sh90</th>\n",
       "      <th>KP90</th>\n",
       "      <th>xG</th>\n",
       "      <th>xGdiff</th>\n",
       "      <th>xA</th>\n",
       "      <th>xAdiff</th>\n",
       "      <th>xG90</th>\n",
       "      <th>xA90</th>\n",
       "    </tr>\n",
       "  </thead>\n",
       "  <tbody>\n",
       "    <tr>\n",
       "      <th>0</th>\n",
       "      <td>2021</td>\n",
       "      <td>Everton</td>\n",
       "      <td>Richarlison</td>\n",
       "      <td>F M</td>\n",
       "      <td>30</td>\n",
       "      <td>2532</td>\n",
       "      <td>10</td>\n",
       "      <td>5</td>\n",
       "      <td>2.63</td>\n",
       "      <td>1.03</td>\n",
       "      <td>10.01</td>\n",
       "      <td>+0.01</td>\n",
       "      <td>4.38</td>\n",
       "      <td>-0.62</td>\n",
       "      <td>0.36</td>\n",
       "      <td>0.16</td>\n",
       "    </tr>\n",
       "    <tr>\n",
       "      <th>0</th>\n",
       "      <td>2021</td>\n",
       "      <td>Everton</td>\n",
       "      <td>Demarai Gray</td>\n",
       "      <td>F M</td>\n",
       "      <td>34</td>\n",
       "      <td>2366</td>\n",
       "      <td>5</td>\n",
       "      <td>4</td>\n",
       "      <td>2.47</td>\n",
       "      <td>1.60</td>\n",
       "      <td>4.34</td>\n",
       "      <td>-0.66</td>\n",
       "      <td>4.43</td>\n",
       "      <td>+0.43</td>\n",
       "      <td>0.16</td>\n",
       "      <td>0.17</td>\n",
       "    </tr>\n",
       "    <tr>\n",
       "      <th>0</th>\n",
       "      <td>2021</td>\n",
       "      <td>Everton</td>\n",
       "      <td>Dominic Calvert-Lewin</td>\n",
       "      <td>F</td>\n",
       "      <td>17</td>\n",
       "      <td>1297</td>\n",
       "      <td>5</td>\n",
       "      <td>2</td>\n",
       "      <td>2.29</td>\n",
       "      <td>0.69</td>\n",
       "      <td>6.22</td>\n",
       "      <td>+1.22</td>\n",
       "      <td>1.66</td>\n",
       "      <td>-0.34</td>\n",
       "      <td>0.43</td>\n",
       "      <td>0.12</td>\n",
       "    </tr>\n",
       "    <tr>\n",
       "      <th>0</th>\n",
       "      <td>2021</td>\n",
       "      <td>Everton</td>\n",
       "      <td>Anthony Gordon</td>\n",
       "      <td>D F M</td>\n",
       "      <td>35</td>\n",
       "      <td>2288</td>\n",
       "      <td>4</td>\n",
       "      <td>2</td>\n",
       "      <td>1.73</td>\n",
       "      <td>1.42</td>\n",
       "      <td>3.46</td>\n",
       "      <td>-0.54</td>\n",
       "      <td>3.78</td>\n",
       "      <td>+1.78</td>\n",
       "      <td>0.14</td>\n",
       "      <td>0.15</td>\n",
       "    </tr>\n",
       "    <tr>\n",
       "      <th>0</th>\n",
       "      <td>2021</td>\n",
       "      <td>Everton</td>\n",
       "      <td>Andros Townsend</td>\n",
       "      <td>D F M</td>\n",
       "      <td>21</td>\n",
       "      <td>1463</td>\n",
       "      <td>3</td>\n",
       "      <td>2</td>\n",
       "      <td>1.29</td>\n",
       "      <td>1.91</td>\n",
       "      <td>2.26</td>\n",
       "      <td>-0.74</td>\n",
       "      <td>2.85</td>\n",
       "      <td>+0.85</td>\n",
       "      <td>0.14</td>\n",
       "      <td>0.18</td>\n",
       "    </tr>\n",
       "  </tbody>\n",
       "</table>\n",
       "</div>"
      ],
      "text/plain": [
       "  Season     Team                 Player    Pos Apps   Min   G  A  Sh90  KP90  \\\n",
       "0   2021  Everton            Richarlison    F M   30  2532  10  5  2.63  1.03   \n",
       "0   2021  Everton           Demarai Gray    F M   34  2366   5  4  2.47  1.60   \n",
       "0   2021  Everton  Dominic Calvert-Lewin      F   17  1297   5  2  2.29  0.69   \n",
       "0   2021  Everton         Anthony Gordon  D F M   35  2288   4  2  1.73  1.42   \n",
       "0   2021  Everton        Andros Townsend  D F M   21  1463   3  2  1.29  1.91   \n",
       "\n",
       "      xG xGdiff    xA xAdiff  xG90  xA90  \n",
       "0  10.01  +0.01  4.38  -0.62  0.36  0.16  \n",
       "0   4.34  -0.66  4.43  +0.43  0.16  0.17  \n",
       "0   6.22  +1.22  1.66  -0.34  0.43  0.12  \n",
       "0   3.46  -0.54  3.78  +1.78  0.14  0.15  \n",
       "0   2.26  -0.74  2.85  +0.85  0.14  0.18  "
      ]
     },
     "execution_count": 39,
     "metadata": {},
     "output_type": "execute_result"
    }
   ],
   "source": [
    "ev.head()"
   ]
  },
  {
   "cell_type": "code",
   "execution_count": 31,
   "id": "8118acff-db37-4d12-9500-1527f78742d1",
   "metadata": {
    "collapsed": true,
    "jupyter": {
     "outputs_hidden": true
    },
    "tags": []
   },
   "outputs": [
    {
     "data": {
      "text/plain": [
       "0     263\n",
       "1     101\n",
       "2      57\n",
       "3      25\n",
       "4      23\n",
       "5      21\n",
       "6      13\n",
       "8      11\n",
       "11      6\n",
       "10      6\n",
       "7       5\n",
       "12      3\n",
       "15      3\n",
       "23      2\n",
       "9       2\n",
       "16      1\n",
       "17      1\n",
       "13      1\n",
       "18      1\n",
       "14      1\n",
       "Name: G, dtype: int64"
      ]
     },
     "execution_count": 31,
     "metadata": {},
     "output_type": "execute_result"
    }
   ],
   "source": [
    "epl[\"G\"].value_counts()"
   ]
  },
  {
   "cell_type": "code",
   "execution_count": 146,
   "id": "0d75410f",
   "metadata": {},
   "outputs": [],
   "source": [
    "players = driver.find_elements(\"xpath\", '//div[@id=\"team-players\"]/table/tbody/tr')[0]\n",
    "player = players.find_elements(\"xpath\", './/*')"
   ]
  },
  {
   "cell_type": "code",
   "execution_count": 148,
   "id": "9e35f515-3277-4752-8225-f7a3acd65cc0",
   "metadata": {},
   "outputs": [
    {
     "name": "stdout",
     "output_type": "stream",
     "text": [
      "Dominic Calvert-Lewin\n",
      "F\n",
      "3\n",
      "270\n",
      "2\n",
      "1\n",
      "1.33\n",
      "0.67\n",
      "1.07-0.93\n",
      "-0.93\n",
      "0.94-0.06\n",
      "-0.06\n",
      "0.36\n",
      "0.31\n"
     ]
    }
   ],
   "source": [
    "i=0\n",
    "player = player[2:]\n",
    "while(i < len(player)):\n",
    "    print(player[i].text)\n",
    "    i += 1"
   ]
  },
  {
   "cell_type": "markdown",
   "id": "240340df",
   "metadata": {},
   "source": [
    "//td[@class=\"player-title\"]"
   ]
  },
  {
   "cell_type": "code",
   "execution_count": 70,
   "id": "9687b055",
   "metadata": {},
   "outputs": [],
   "source": [
    "player = players.find_elements(\"xpath\", './/*')"
   ]
  },
  {
   "cell_type": "code",
   "execution_count": 80,
   "id": "e484a614-cfe1-484d-a844-7f2527c40d5e",
   "metadata": {},
   "outputs": [
    {
     "data": {
      "text/plain": [
       "'Dominic Calvert-Lewin'"
      ]
     },
     "execution_count": 80,
     "metadata": {},
     "output_type": "execute_result"
    }
   ],
   "source": [
    "player[1].text"
   ]
  }
 ],
 "metadata": {
  "kernelspec": {
   "display_name": "Python 3 (ipykernel)",
   "language": "python",
   "name": "python3"
  },
  "language_info": {
   "codemirror_mode": {
    "name": "ipython",
    "version": 3
   },
   "file_extension": ".py",
   "mimetype": "text/x-python",
   "name": "python",
   "nbconvert_exporter": "python",
   "pygments_lexer": "ipython3",
   "version": "3.9.12"
  },
  "vscode": {
   "interpreter": {
    "hash": "e81edac1014f1ca5e3a0b37339d7af5a765e8f4dd9f013c8df08f8ec4492a3ab"
   }
  }
 },
 "nbformat": 4,
 "nbformat_minor": 5
}
